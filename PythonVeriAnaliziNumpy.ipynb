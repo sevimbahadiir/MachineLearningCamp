{
  "nbformat": 4,
  "nbformat_minor": 0,
  "metadata": {
    "colab": {
      "provenance": []
    },
    "kernelspec": {
      "name": "python3",
      "display_name": "Python 3"
    },
    "language_info": {
      "name": "python"
    }
  },
  "cells": [
    {
      "cell_type": "code",
      "execution_count": 1,
      "metadata": {
        "id": "rYtsdqrcbdzy"
      },
      "outputs": [],
      "source": [
        "#NUMPY (Numerical Python)\n",
        "#Array'ler çok boyutlu array'ler ve matrisler üzerinde çalışma imkanı\n",
        "#Matematiksel ve istatiksel hesaplamalar\n",
        "#Verimli veri saklama ve vektörel operasyonlardır."
      ]
    },
    {
      "cell_type": "code",
      "source": [
        "import numpy as np"
      ],
      "metadata": {
        "id": "svtVerUccs2_"
      },
      "execution_count": 2,
      "outputs": []
    },
    {
      "cell_type": "code",
      "source": [
        "a = [1, 2, 3, 4]\n",
        "b = [2, 3, 4, 5]\n",
        "ab = []\n",
        "\n",
        "for i in range(0, len(a)):\n",
        "  ab.append(a[i] * b[i])\n",
        "\n",
        "ab"
      ],
      "metadata": {
        "colab": {
          "base_uri": "https://localhost:8080/"
        },
        "id": "HSMngxRlcx9e",
        "outputId": "879e0784-e5f2-43a8-d3d9-d009adcb6ed2"
      },
      "execution_count": 6,
      "outputs": [
        {
          "output_type": "execute_result",
          "data": {
            "text/plain": [
              "[2, 6, 12, 20]"
            ]
          },
          "metadata": {},
          "execution_count": 6
        }
      ]
    },
    {
      "cell_type": "code",
      "source": [
        "a = np.array([1,2,3,4])\n",
        "b = np.array([2,3,4,5])\n",
        "a * b"
      ],
      "metadata": {
        "colab": {
          "base_uri": "https://localhost:8080/"
        },
        "id": "puumxwhgeozU",
        "outputId": "26ca6cb6-8ffe-4140-a809-1f3aa4b1545e"
      },
      "execution_count": 7,
      "outputs": [
        {
          "output_type": "execute_result",
          "data": {
            "text/plain": [
              "array([ 2,  6, 12, 20])"
            ]
          },
          "metadata": {},
          "execution_count": 7
        }
      ]
    },
    {
      "cell_type": "code",
      "source": [
        "#Numpy listelere göre neden daha iyi?\n",
        "#Daha hızlıdır çünkü sabit tipte veri tutar, yani  verimli veri saklar bundan dolayı hızlıdır.\n",
        "#Yüksek seviyeden işlemler yapma imkanı sağlamasıdır."
      ],
      "metadata": {
        "id": "dy5NSb-Ne_sw"
      },
      "execution_count": 8,
      "outputs": []
    },
    {
      "cell_type": "code",
      "source": [
        "#Numpy array'i oluşturmak (Creating Numpy Arrays)\n",
        "\n",
        "np.array([1, 2, 3, 4, 5])\n",
        "type(np.array([1, 2, 3, 4, 5]))"
      ],
      "metadata": {
        "colab": {
          "base_uri": "https://localhost:8080/"
        },
        "id": "U6Bij8OsfvTP",
        "outputId": "136d2688-f7d7-40ef-dd67-600bd682f5e2"
      },
      "execution_count": 18,
      "outputs": [
        {
          "output_type": "execute_result",
          "data": {
            "text/plain": [
              "numpy.ndarray"
            ]
          },
          "metadata": {},
          "execution_count": 18
        }
      ]
    },
    {
      "cell_type": "code",
      "source": [
        "np.zeros(10, dtype=int)"
      ],
      "metadata": {
        "colab": {
          "base_uri": "https://localhost:8080/"
        },
        "id": "2V3nLcWbg4pH",
        "outputId": "18eb6dc3-3da3-42ad-8833-4ebb44bd9081"
      },
      "execution_count": 19,
      "outputs": [
        {
          "output_type": "execute_result",
          "data": {
            "text/plain": [
              "array([0, 0, 0, 0, 0, 0, 0, 0, 0, 0])"
            ]
          },
          "metadata": {},
          "execution_count": 19
        }
      ]
    },
    {
      "cell_type": "code",
      "source": [
        "np.random.randint(0, 10, size=10)"
      ],
      "metadata": {
        "colab": {
          "base_uri": "https://localhost:8080/"
        },
        "id": "q2wZHnm5g6jX",
        "outputId": "992929ad-f308-46b6-a6da-4f086fc81db9"
      },
      "execution_count": 20,
      "outputs": [
        {
          "output_type": "execute_result",
          "data": {
            "text/plain": [
              "array([3, 1, 2, 1, 6, 2, 0, 4, 5, 2])"
            ]
          },
          "metadata": {},
          "execution_count": 20
        }
      ]
    },
    {
      "cell_type": "code",
      "source": [
        "np.random.normal(10, 4, (3,4))"
      ],
      "metadata": {
        "colab": {
          "base_uri": "https://localhost:8080/"
        },
        "id": "TASkz3Olg9jd",
        "outputId": "1d69eb6c-4aac-4d15-b789-2c4488787ed4"
      },
      "execution_count": 21,
      "outputs": [
        {
          "output_type": "execute_result",
          "data": {
            "text/plain": [
              "array([[12.60512671, 16.99181636,  8.77004149, 15.14102868],\n",
              "       [11.12611975, 13.65181359, 12.39191682, 15.96594596],\n",
              "       [ 7.37698175,  1.94234621,  1.12357372, 13.0709083 ]])"
            ]
          },
          "metadata": {},
          "execution_count": 21
        }
      ]
    },
    {
      "cell_type": "code",
      "source": [
        "#Numpy Array Özellikleri (Attibutes of Numpy Arrays)\n",
        "# ndim: boyut sayısı\n",
        "# shape: boyut bilgisi\n",
        "# size: toplam eleman sayısı\n",
        "# dtype: array veri tipi"
      ],
      "metadata": {
        "id": "yJLxW8U7haYv"
      },
      "execution_count": null,
      "outputs": []
    },
    {
      "cell_type": "code",
      "source": [
        "a = np.random.randint(10, size=5)\n",
        "a"
      ],
      "metadata": {
        "colab": {
          "base_uri": "https://localhost:8080/"
        },
        "id": "_8uoLViShxO5",
        "outputId": "f7992319-28ca-4f3a-909e-1139abdef36e"
      },
      "execution_count": 27,
      "outputs": [
        {
          "output_type": "execute_result",
          "data": {
            "text/plain": [
              "array([2, 5, 8, 6, 5])"
            ]
          },
          "metadata": {},
          "execution_count": 27
        }
      ]
    },
    {
      "cell_type": "code",
      "source": [
        "a.ndim"
      ],
      "metadata": {
        "colab": {
          "base_uri": "https://localhost:8080/"
        },
        "id": "ROmtP7rPiJTK",
        "outputId": "84dbe41c-d097-4800-e3ee-b72a927e330f"
      },
      "execution_count": 28,
      "outputs": [
        {
          "output_type": "execute_result",
          "data": {
            "text/plain": [
              "1"
            ]
          },
          "metadata": {},
          "execution_count": 28
        }
      ]
    },
    {
      "cell_type": "code",
      "source": [
        "a.shape"
      ],
      "metadata": {
        "colab": {
          "base_uri": "https://localhost:8080/"
        },
        "id": "E0fEVnc1iLb1",
        "outputId": "7c79d3ca-6b6d-4b80-c655-63711896bf13"
      },
      "execution_count": 29,
      "outputs": [
        {
          "output_type": "execute_result",
          "data": {
            "text/plain": [
              "(5,)"
            ]
          },
          "metadata": {},
          "execution_count": 29
        }
      ]
    },
    {
      "cell_type": "code",
      "source": [
        "a.size"
      ],
      "metadata": {
        "colab": {
          "base_uri": "https://localhost:8080/"
        },
        "id": "S5CfE0KqiWSc",
        "outputId": "3a9a05df-fff2-40e0-f288-a1491b89a0c8"
      },
      "execution_count": 31,
      "outputs": [
        {
          "output_type": "execute_result",
          "data": {
            "text/plain": [
              "5"
            ]
          },
          "metadata": {},
          "execution_count": 31
        }
      ]
    },
    {
      "cell_type": "code",
      "source": [
        "a.dtype"
      ],
      "metadata": {
        "colab": {
          "base_uri": "https://localhost:8080/"
        },
        "id": "gxUnmec0iVwu",
        "outputId": "fa656cd4-eed7-4a1f-acf4-73e090675439"
      },
      "execution_count": 32,
      "outputs": [
        {
          "output_type": "execute_result",
          "data": {
            "text/plain": [
              "dtype('int64')"
            ]
          },
          "metadata": {},
          "execution_count": 32
        }
      ]
    },
    {
      "cell_type": "code",
      "source": [
        "#Yeniden Şekillendirme (Reshaping)"
      ],
      "metadata": {
        "id": "BUAB4bx5lPja"
      },
      "execution_count": null,
      "outputs": []
    },
    {
      "cell_type": "code",
      "source": [
        "np.random.randint(1,10,size=9)"
      ],
      "metadata": {
        "colab": {
          "base_uri": "https://localhost:8080/"
        },
        "id": "WAMpgCEolU3K",
        "outputId": "8d03e634-402f-418b-807a-1bd070f0d75b"
      },
      "execution_count": 33,
      "outputs": [
        {
          "output_type": "execute_result",
          "data": {
            "text/plain": [
              "array([5, 9, 1, 3, 5, 8, 7, 8, 7])"
            ]
          },
          "metadata": {},
          "execution_count": 33
        }
      ]
    },
    {
      "cell_type": "code",
      "source": [
        "np.random.randint(1,10,size=9).reshape(3,3)"
      ],
      "metadata": {
        "colab": {
          "base_uri": "https://localhost:8080/"
        },
        "id": "aZgWwHgIleH3",
        "outputId": "2137ae40-eb77-4c76-fbb7-dd43fec0882d"
      },
      "execution_count": 34,
      "outputs": [
        {
          "output_type": "execute_result",
          "data": {
            "text/plain": [
              "array([[6, 6, 9],\n",
              "       [5, 5, 3],\n",
              "       [6, 1, 5]])"
            ]
          },
          "metadata": {},
          "execution_count": 34
        }
      ]
    },
    {
      "cell_type": "code",
      "source": [
        "ar = np.random.randint(1,10,size=9)"
      ],
      "metadata": {
        "id": "MA1jUeDblpv4"
      },
      "execution_count": 35,
      "outputs": []
    },
    {
      "cell_type": "code",
      "source": [
        "ar.reshape(3,3)"
      ],
      "metadata": {
        "colab": {
          "base_uri": "https://localhost:8080/"
        },
        "id": "j5aJFSEwls6M",
        "outputId": "27fe2868-298c-4bab-b100-4dff49ffb926"
      },
      "execution_count": 36,
      "outputs": [
        {
          "output_type": "execute_result",
          "data": {
            "text/plain": [
              "array([[5, 2, 9],\n",
              "       [2, 4, 1],\n",
              "       [4, 2, 3]])"
            ]
          },
          "metadata": {},
          "execution_count": 36
        }
      ]
    },
    {
      "cell_type": "code",
      "source": [
        "#Index Seçimi (Index Selection)"
      ],
      "metadata": {
        "id": "DiEN9hrBmO-_"
      },
      "execution_count": 37,
      "outputs": []
    },
    {
      "cell_type": "code",
      "source": [
        "a = np.random.randint(10, size=10)\n",
        "a[0]\n",
        "a[0:3]"
      ],
      "metadata": {
        "colab": {
          "base_uri": "https://localhost:8080/"
        },
        "id": "g7Zfe_brmUIQ",
        "outputId": "fa40aec3-a40e-4e4a-a27b-06b424572195"
      },
      "execution_count": 39,
      "outputs": [
        {
          "output_type": "execute_result",
          "data": {
            "text/plain": [
              "array([6, 8, 4])"
            ]
          },
          "metadata": {},
          "execution_count": 39
        }
      ]
    },
    {
      "cell_type": "code",
      "source": [
        "m = np.random.randint(10, size=(3,5))\n",
        "m"
      ],
      "metadata": {
        "colab": {
          "base_uri": "https://localhost:8080/"
        },
        "id": "F3nFfxFroP6N",
        "outputId": "6e816b8f-efb8-4f7d-c47b-b5a7a6f20274"
      },
      "execution_count": 41,
      "outputs": [
        {
          "output_type": "execute_result",
          "data": {
            "text/plain": [
              "array([[6, 1, 3, 7, 9],\n",
              "       [1, 6, 3, 7, 8],\n",
              "       [9, 2, 9, 6, 6]])"
            ]
          },
          "metadata": {},
          "execution_count": 41
        }
      ]
    },
    {
      "cell_type": "code",
      "source": [
        "m[0, 0]"
      ],
      "metadata": {
        "colab": {
          "base_uri": "https://localhost:8080/"
        },
        "id": "bs7J_j3oobJl",
        "outputId": "d936b7ad-8c43-4f7c-899a-0982ce23adb8"
      },
      "execution_count": 42,
      "outputs": [
        {
          "output_type": "execute_result",
          "data": {
            "text/plain": [
              "6"
            ]
          },
          "metadata": {},
          "execution_count": 42
        }
      ]
    },
    {
      "cell_type": "code",
      "source": [
        "m[1, :]"
      ],
      "metadata": {
        "colab": {
          "base_uri": "https://localhost:8080/"
        },
        "id": "_VxOOnuNop3m",
        "outputId": "3b633ebc-aa3f-49bd-dd0e-7ef77b144b33"
      },
      "execution_count": 43,
      "outputs": [
        {
          "output_type": "execute_result",
          "data": {
            "text/plain": [
              "array([1, 6, 3, 7, 8])"
            ]
          },
          "metadata": {},
          "execution_count": 43
        }
      ]
    },
    {
      "cell_type": "code",
      "source": [
        "m[:, 1]"
      ],
      "metadata": {
        "colab": {
          "base_uri": "https://localhost:8080/"
        },
        "id": "to7gTLXIo12M",
        "outputId": "a8924772-473b-4360-e9f3-765107936ff4"
      },
      "execution_count": 44,
      "outputs": [
        {
          "output_type": "execute_result",
          "data": {
            "text/plain": [
              "array([1, 6, 2])"
            ]
          },
          "metadata": {},
          "execution_count": 44
        }
      ]
    },
    {
      "cell_type": "code",
      "source": [
        "m[0:2 , 0:3]"
      ],
      "metadata": {
        "colab": {
          "base_uri": "https://localhost:8080/"
        },
        "id": "GrMXznBRpIWs",
        "outputId": "da6ddf32-afee-4c11-c7fb-d551bc188d40"
      },
      "execution_count": 45,
      "outputs": [
        {
          "output_type": "execute_result",
          "data": {
            "text/plain": [
              "array([[6, 1, 3],\n",
              "       [1, 6, 3]])"
            ]
          },
          "metadata": {},
          "execution_count": 45
        }
      ]
    },
    {
      "cell_type": "code",
      "source": [
        "#Fancy Index"
      ],
      "metadata": {
        "id": "eVFJaD0oqb-D"
      },
      "execution_count": null,
      "outputs": []
    },
    {
      "cell_type": "code",
      "source": [
        "v = np.arange(0,30,3)\n",
        "v[1]\n",
        "v[4]"
      ],
      "metadata": {
        "colab": {
          "base_uri": "https://localhost:8080/"
        },
        "id": "yXaXfmETqeIC",
        "outputId": "550da081-c013-42b0-d170-c5b291db81a8"
      },
      "execution_count": 48,
      "outputs": [
        {
          "output_type": "execute_result",
          "data": {
            "text/plain": [
              "12"
            ]
          },
          "metadata": {},
          "execution_count": 48
        }
      ]
    },
    {
      "cell_type": "code",
      "source": [
        "catch = [1,2,3]"
      ],
      "metadata": {
        "id": "On2xfobNq9Lc"
      },
      "execution_count": 50,
      "outputs": []
    },
    {
      "cell_type": "code",
      "source": [
        "v[catch]"
      ],
      "metadata": {
        "colab": {
          "base_uri": "https://localhost:8080/"
        },
        "id": "XNpJzhaarFPq",
        "outputId": "3f1f5111-7029-4a6e-f6e6-dcb3c508feba"
      },
      "execution_count": 51,
      "outputs": [
        {
          "output_type": "execute_result",
          "data": {
            "text/plain": [
              "array([3, 6, 9])"
            ]
          },
          "metadata": {},
          "execution_count": 51
        }
      ]
    },
    {
      "cell_type": "code",
      "source": [
        "#Numy'da Koşullu İşlemler"
      ],
      "metadata": {
        "id": "oUgOC3cUrzdD"
      },
      "execution_count": null,
      "outputs": []
    },
    {
      "cell_type": "code",
      "source": [
        "v = np.array([1,2,3,4,5])"
      ],
      "metadata": {
        "id": "_0QpEcQgr3s9"
      },
      "execution_count": 52,
      "outputs": []
    },
    {
      "cell_type": "code",
      "source": [
        "#Klasik Döngü İle\n",
        "\n",
        "ab = []\n",
        "for i in v:\n",
        "  if i < 3:\n",
        "    ab.append(i)\n"
      ],
      "metadata": {
        "id": "4nxxPNATsAb6"
      },
      "execution_count": 53,
      "outputs": []
    },
    {
      "cell_type": "code",
      "source": [
        "# Numpy ile\n",
        "v < 3"
      ],
      "metadata": {
        "colab": {
          "base_uri": "https://localhost:8080/"
        },
        "id": "ayMzxSd3se5c",
        "outputId": "59b5a926-9df8-4ce5-a181-b76d79f88087"
      },
      "execution_count": 55,
      "outputs": [
        {
          "output_type": "execute_result",
          "data": {
            "text/plain": [
              "array([ True,  True, False, False, False])"
            ]
          },
          "metadata": {},
          "execution_count": 55
        }
      ]
    },
    {
      "cell_type": "code",
      "source": [
        "v[v < 3]"
      ],
      "metadata": {
        "colab": {
          "base_uri": "https://localhost:8080/"
        },
        "id": "PS59pLeLs2-L",
        "outputId": "62d802c4-7578-4562-8b25-f7cfcc1b5082"
      },
      "execution_count": 56,
      "outputs": [
        {
          "output_type": "execute_result",
          "data": {
            "text/plain": [
              "array([1, 2])"
            ]
          },
          "metadata": {},
          "execution_count": 56
        }
      ]
    },
    {
      "cell_type": "code",
      "source": [
        "#Matematiksel İşlemler\n",
        "v = np.array([1,2,3,4,5])"
      ],
      "metadata": {
        "id": "JlOTqF8Yt6f3"
      },
      "execution_count": 57,
      "outputs": []
    },
    {
      "cell_type": "code",
      "source": [
        "v / 5"
      ],
      "metadata": {
        "colab": {
          "base_uri": "https://localhost:8080/"
        },
        "id": "d7sg2LG_uNjv",
        "outputId": "1dff315c-de42-4a3e-a013-74481628d6c4"
      },
      "execution_count": 58,
      "outputs": [
        {
          "output_type": "execute_result",
          "data": {
            "text/plain": [
              "array([0.2, 0.4, 0.6, 0.8, 1. ])"
            ]
          },
          "metadata": {},
          "execution_count": 58
        }
      ]
    },
    {
      "cell_type": "code",
      "source": [
        "v * 5 / 10"
      ],
      "metadata": {
        "colab": {
          "base_uri": "https://localhost:8080/"
        },
        "id": "oPTqBl6DuSC3",
        "outputId": "9295733b-e6d7-45b1-dd22-dca2f918df37"
      },
      "execution_count": 59,
      "outputs": [
        {
          "output_type": "execute_result",
          "data": {
            "text/plain": [
              "array([0.5, 1. , 1.5, 2. , 2.5])"
            ]
          },
          "metadata": {},
          "execution_count": 59
        }
      ]
    },
    {
      "cell_type": "code",
      "source": [
        "v ** 2"
      ],
      "metadata": {
        "colab": {
          "base_uri": "https://localhost:8080/"
        },
        "id": "t91GUyCcuV1Y",
        "outputId": "9f445ccd-f197-4bb9-d955-142abd67b20b"
      },
      "execution_count": 60,
      "outputs": [
        {
          "output_type": "execute_result",
          "data": {
            "text/plain": [
              "array([ 1,  4,  9, 16, 25])"
            ]
          },
          "metadata": {},
          "execution_count": 60
        }
      ]
    },
    {
      "cell_type": "code",
      "source": [
        "a = np.array([[5,1],[1,3]])\n",
        "b = np.array([[12],[10]])\n",
        "\n",
        "np.linalg.solve(a,b)\n"
      ],
      "metadata": {
        "colab": {
          "base_uri": "https://localhost:8080/"
        },
        "id": "l2q3Iioxv4nr",
        "outputId": "1f629118-e70a-4a1d-af26-c0a55b615f75"
      },
      "execution_count": 62,
      "outputs": [
        {
          "output_type": "execute_result",
          "data": {
            "text/plain": [
              "array([[1.85714286],\n",
              "       [2.71428571]])"
            ]
          },
          "metadata": {},
          "execution_count": 62
        }
      ]
    }
  ]
}